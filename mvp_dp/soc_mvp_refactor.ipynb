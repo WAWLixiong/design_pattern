{
 "cells": [
  {
   "cell_type": "code",
   "execution_count": 34,
   "metadata": {
    "pycharm": {
     "name": "#%%\n"
    }
   },
   "outputs": [],
   "source": [
    "import time\n",
    "from abc import ABC, abstractmethod\n",
    "from collections import defaultdict\n",
    "from pandas import DataFrame\n",
    "from ipywidgets import Text, Button, Label, HBox, Output\n",
    "from IPython.display import display"
   ]
  },
  {
   "cell_type": "code",
   "execution_count": 35,
   "outputs": [],
   "source": [
    "class Employee:\n",
    "    def __init__(self, name: str, salary: int) -> None:\n",
    "        self.name = name\n",
    "        self.salary = salary"
   ],
   "metadata": {
    "collapsed": false,
    "pycharm": {
     "name": "#%%\n"
    }
   }
  },
  {
   "cell_type": "code",
   "execution_count": 36,
   "outputs": [],
   "source": [
    "class EmployeeRepository(ABC):\n",
    "    @abstractmethod\n",
    "    def query_employees(self, keyword: str) -> list[Employee]:\n",
    "        pass"
   ],
   "metadata": {
    "collapsed": false,
    "pycharm": {
     "name": "#%%\n"
    }
   }
  },
  {
   "cell_type": "code",
   "execution_count": 37,
   "outputs": [],
   "source": [
    "class MemoryEmployeeRepository(EmployeeRepository):\n",
    "    employees: list[Employee] = [\n",
    "        Employee('Andy', 9999),\n",
    "        Employee('Berry', 9999),\n",
    "        Employee('Anna', 9999),\n",
    "    ]\n",
    "\n",
    "    def query_employees(self, keyword: str) -> list[Employee]:\n",
    "        return [employee for employee in self.employees if keyword.lower() in employee.name.lower()]"
   ],
   "metadata": {
    "collapsed": false,
    "pycharm": {
     "name": "#%%\n"
    }
   }
  },
  {
   "cell_type": "code",
   "execution_count": 38,
   "outputs": [],
   "source": [
    "class EmployeeService:\n",
    "    \"\"\"可以再抽象一层，此处省略\"\"\"\n",
    "    def __init__(self, employee_repository: EmployeeRepository) -> None:\n",
    "        self._employ_ee_repository = employee_repository\n",
    "\n",
    "    def query_employees_data(self, keyword: str) -> dict[str, list[str, float]]:\n",
    "        employees = self._employ_ee_repository.query_employees(keyword)\n",
    "        result = defaultdict(list)\n",
    "        for employee in employees:\n",
    "            result['name'].append(employee.name)\n",
    "            result['salary'].append(employee.salary)\n",
    "        return result"
   ],
   "metadata": {
    "collapsed": false,
    "pycharm": {
     "name": "#%%\n"
    }
   }
  },
  {
   "cell_type": "code",
   "execution_count": 39,
   "outputs": [],
   "source": [
    "class View(ABC):\n",
    "    @property\n",
    "    @abstractmethod\n",
    "    def employee_presenter(self):\n",
    "        pass\n",
    "\n",
    "    @employee_presenter.setter\n",
    "    @abstractmethod\n",
    "    def employee_presenter(self, presenter):\n",
    "        # 注入空的东西解决循环依赖\n",
    "        pass\n",
    "\n",
    "    @abstractmethod\n",
    "    def show_employees(self, data: dict[str, list[str, float]]) -> None:\n",
    "        pass\n",
    "\n",
    "    @abstractmethod\n",
    "    def display(self) -> None:\n",
    "        pass\n",
    "\n",
    "    @abstractmethod\n",
    "    def show_status(self) -> None:\n",
    "        pass\n",
    "\n",
    "    @abstractmethod\n",
    "    def hide_status(self) -> None:\n",
    "        pass"
   ],
   "metadata": {
    "collapsed": false,
    "pycharm": {
     "name": "#%%\n"
    }
   }
  },
  {
   "cell_type": "code",
   "execution_count": 40,
   "outputs": [],
   "source": [
    "class EmployeeView(View):\n",
    "    def __init__(self):\n",
    "        self._employee_presenter: Presenter = None\n",
    "\n",
    "        self._container: HBox = None\n",
    "        self._keyword_textbox: Text = None\n",
    "        self._search_button: Button = None\n",
    "        self._status: Label = None\n",
    "        self._output: Output = None\n",
    "        self._initialize_view()\n",
    "\n",
    "    def _initialize_view(self) -> None:\n",
    "        self._keyword_textbox = Text(\n",
    "            value='',\n",
    "            placehoder=\"请输入关键字\",\n",
    "            description=\"关键字\"\n",
    "        )\n",
    "        self._search_button = Button(\n",
    "            description=\"查询\",\n",
    "            button_style=\"info\",\n",
    "            tooltip=\"查询\",\n",
    "            icon=\"search\"\n",
    "        )\n",
    "        self._status = Label()\n",
    "        self._container = HBox(\n",
    "            (self._keyword_textbox, self._search_button, self._status)\n",
    "        )\n",
    "        self._output = Output()\n",
    "        self._bind_event()\n",
    "\n",
    "    def _on_click(self, *args):\n",
    "        keyword = self._keyword_textbox.value\n",
    "        self._employee_presenter.search(keyword)\n",
    "\n",
    "    def _bind_event(self):\n",
    "        self._search_button.on_click(self._on_click)\n",
    "\n",
    "    @property\n",
    "    def employee_presenter(self):\n",
    "        return self._employee_presenter\n",
    "\n",
    "    @employee_presenter.setter\n",
    "    def employee_presenter(self, presenter):\n",
    "        self._employee_presenter = presenter\n",
    "\n",
    "    def show_employees(self, data: dict[str, list[str, float]]) -> None:\n",
    "        df = DataFrame(data)\n",
    "        with self._output:\n",
    "            self._output.clear_output()\n",
    "            display(df)\n",
    "\n",
    "    def display(self) -> None:\n",
    "        display(self._container, self._output)\n",
    "\n",
    "    def show_status(self) -> None:\n",
    "        self._status.value = \"正在查询，请稍等...\"\n",
    "\n",
    "    def hide_status(self) -> None:\n",
    "        self._status.value = \"\"\n"
   ],
   "metadata": {
    "collapsed": false,
    "pycharm": {
     "name": "#%%\n"
    }
   }
  },
  {
   "cell_type": "code",
   "execution_count": 41,
   "outputs": [],
   "source": [
    "class Presenter(ABC):\n",
    "    @property\n",
    "    @abstractmethod\n",
    "    def employ_view(self):\n",
    "        pass\n",
    "\n",
    "    @employ_view.setter\n",
    "    @abstractmethod\n",
    "    def employ_view(self, view):\n",
    "        pass\n",
    "\n",
    "    @abstractmethod\n",
    "    def search(self, keyword: str) -> None:\n",
    "        pass\n",
    "\n",
    "    @abstractmethod\n",
    "    def display(self) -> None:\n",
    "        pass\n"
   ],
   "metadata": {
    "collapsed": false,
    "pycharm": {
     "name": "#%%\n"
    }
   }
  },
  {
   "cell_type": "code",
   "execution_count": 42,
   "outputs": [],
   "source": [
    "class EmployeePresenter(Presenter):\n",
    "    def __init__(self, employee_service: EmployeeService) -> None:\n",
    "        self._employee_service = employee_service\n",
    "        self._employee_view: View = None\n",
    "\n",
    "    @property\n",
    "    def employ_view(self):\n",
    "        return self._employee_view\n",
    "\n",
    "    @employ_view.setter\n",
    "    def employ_view(self, view):\n",
    "        self._employee_view = view\n",
    "\n",
    "    def search(self, keyword: str) -> None:\n",
    "        # 显示进度\n",
    "        self.employ_view.show_status()\n",
    "        # 获取数据\n",
    "        data = self._employee_service.query_employees_data(keyword)\n",
    "        time.sleep(1)\n",
    "        # 隐藏进度信息\n",
    "        self.employ_view.hide_status()\n",
    "        # 绑定和呈现列表\n",
    "        self.employ_view.show_employees(data)\n",
    "\n",
    "    def display(self) -> None:\n",
    "        self.employ_view.display()"
   ],
   "metadata": {
    "collapsed": false,
    "pycharm": {
     "name": "#%%\n"
    }
   }
  },
  {
   "cell_type": "code",
   "execution_count": 43,
   "outputs": [
    {
     "data": {
      "text/plain": "HBox(children=(Text(value='', description='关键字'), Button(button_style='info', description='查询', icon='search',…",
      "application/vnd.jupyter.widget-view+json": {
       "version_major": 2,
       "version_minor": 0,
       "model_id": "8b124d647a87475b9a9bc50efa2d0f37"
      }
     },
     "metadata": {},
     "output_type": "display_data"
    },
    {
     "data": {
      "text/plain": "Output()",
      "application/vnd.jupyter.widget-view+json": {
       "version_major": 2,
       "version_minor": 0,
       "model_id": "7a2ceecb77ca4283bdf0f46764ef7c6a"
      }
     },
     "metadata": {},
     "output_type": "display_data"
    }
   ],
   "source": [
    "if __name__ == '__main__':\n",
    "    memory_employee_repository = MemoryEmployeeRepository()\n",
    "    employee_service = EmployeeService(memory_employee_repository)\n",
    "    employee_present = EmployeePresenter(employee_service)\n",
    "    employee_view = EmployeeView()\n",
    "\n",
    "    employee_present.employ_view = employee_view\n",
    "    employee_view.employee_presenter = employee_present\n",
    "\n",
    "    employee_present.display()"
   ],
   "metadata": {
    "collapsed": false,
    "pycharm": {
     "name": "#%%\n"
    }
   }
  },
  {
   "cell_type": "code",
   "execution_count": 43,
   "metadata": {
    "pycharm": {
     "name": "#%%\n"
    }
   },
   "outputs": [],
   "source": []
  }
 ],
 "metadata": {
  "kernelspec": {
   "display_name": "Python 3 (ipykernel)",
   "language": "python",
   "name": "python3"
  },
  "language_info": {
   "codemirror_mode": {
    "name": "ipython",
    "version": 3
   },
   "file_extension": ".py",
   "mimetype": "text/x-python",
   "name": "python",
   "nbconvert_exporter": "python",
   "pygments_lexer": "ipython3",
   "version": "3.10.0"
  }
 },
 "nbformat": 4,
 "nbformat_minor": 1
}