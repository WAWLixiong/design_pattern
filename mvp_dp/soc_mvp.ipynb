{
 "cells": [
  {
   "cell_type": "code",
   "execution_count": 8,
   "metadata": {
    "pycharm": {
     "name": "#%%\n"
    }
   },
   "outputs": [],
   "source": [
    "import time\n",
    "from collections import defaultdict\n",
    "from pandas import DataFrame\n",
    "from ipywidgets import Text, Button, Label, HBox, Output\n",
    "from IPython.display import display"
   ]
  },
  {
   "cell_type": "code",
   "execution_count": 9,
   "metadata": {
    "pycharm": {
     "name": "#%%\n"
    }
   },
   "outputs": [],
   "source": [
    "class Employee:\n",
    "    def __init__(self, name: str, salary: str) -> None:\n",
    "        self.name = name\n",
    "        self.salary = salary"
   ]
  },
  {
   "cell_type": "code",
   "execution_count": 11,
   "outputs": [
    {
     "data": {
      "text/plain": "HBox(children=(Text(value='', description='关键字'), Button(button_style='info', description='查询', icon='search',…",
      "application/vnd.jupyter.widget-view+json": {
       "version_major": 2,
       "version_minor": 0,
       "model_id": "2fa62992d5ca4c50a56973277741d3a1"
      }
     },
     "metadata": {},
     "output_type": "display_data"
    },
    {
     "data": {
      "text/plain": "Output()",
      "application/vnd.jupyter.widget-view+json": {
       "version_major": 2,
       "version_minor": 0,
       "model_id": "c5971dde595f467ca8044d31aebe6dfa"
      }
     },
     "metadata": {},
     "output_type": "display_data"
    }
   ],
   "source": [
    "class Application:\n",
    "    def __init__(self, employees: list[Employee]) -> None:\n",
    "        self._employees = employees\n",
    "        self._container: HBox = None\n",
    "        self._keyword_textbox: Text = None\n",
    "        self._search_button: Button = None\n",
    "        self._status: Label = None\n",
    "        self._output: Output = None\n",
    "\n",
    "        self._initialize_view()\n",
    "\n",
    "    def _query_employees(self) -> dict[str, list[str, float]]:\n",
    "        result = defaultdict(list)\n",
    "        for employee in self._employees:\n",
    "            if self._keyword_textbox.value.lower() in employee.name.lower():\n",
    "                result['name'].append(employee.name)\n",
    "                result['salary'].append(employee.salary)\n",
    "        # 模拟获取数据的延迟\n",
    "        time.sleep(1)\n",
    "        return result\n",
    "\n",
    "    def _on_click(self, *args):\n",
    "        # 显示进度信息\n",
    "        self._status.value = \"读取数据，请稍等。。。\"\n",
    "        # 获取数据\n",
    "        data = self._query_employees()\n",
    "        # 隐藏进度信息\n",
    "        self._status.value = \"\"\n",
    "        # 绑定列表\n",
    "        df = DataFrame(data)\n",
    "        # 呈现列表\n",
    "        with self._output:\n",
    "            self._output.clear_output()\n",
    "            display(df)\n",
    "\n",
    "    def _bind_event(self):\n",
    "        self._search_button.on_click(self._on_click)\n",
    "\n",
    "    def _initialize_view(self) -> None:\n",
    "        self._keyword_textbox = Text(\n",
    "            value='',\n",
    "            placehoder=\"请输入关键字\",\n",
    "            description=\"关键字\"\n",
    "        )\n",
    "        self._search_button = Button(\n",
    "            description=\"查询\",\n",
    "            button_style=\"info\",\n",
    "            tooltip=\"查询\",\n",
    "            icon=\"search\"\n",
    "        )\n",
    "        self._status = Label()\n",
    "        self._container = HBox(\n",
    "            (self._keyword_textbox, self._search_button, self._status)\n",
    "        )\n",
    "        self._output = Output()\n",
    "        self._bind_event()\n",
    "\n",
    "    def run(self) -> None:\n",
    "        display(self._container, self._output)\n",
    "\n",
    "\n",
    "data = [('Andy', 9999), ('Berry', 8888), ('Cell', 7777), ('Anna', 6666)]\n",
    "employees = [Employee(*entry) for entry in data]\n",
    "app = Application(employees)\n",
    "app.run()"
   ],
   "metadata": {
    "collapsed": false,
    "pycharm": {
     "name": "#%%\n"
    }
   }
  },
  {
   "cell_type": "code",
   "execution_count": 10,
   "metadata": {
    "pycharm": {
     "name": "#%%\n"
    }
   },
   "outputs": [],
   "source": []
  }
 ],
 "metadata": {
  "kernelspec": {
   "display_name": "Python 3 (ipykernel)",
   "language": "python",
   "name": "python3"
  },
  "language_info": {
   "codemirror_mode": {
    "name": "ipython",
    "version": 3
   },
   "file_extension": ".py",
   "mimetype": "text/x-python",
   "name": "python",
   "nbconvert_exporter": "python",
   "pygments_lexer": "ipython3",
   "version": "3.10.0"
  }
 },
 "nbformat": 4,
 "nbformat_minor": 1
}